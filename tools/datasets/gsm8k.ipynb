{
 "cells": [
  {
   "cell_type": "code",
   "execution_count": 7,
   "metadata": {},
   "outputs": [],
   "source": [
    "import datasets\n",
    "\n",
    "dataset = datasets.load_dataset(\"gsm8k\", \"main\", split=\"train\")"
   ]
  },
  {
   "cell_type": "code",
   "execution_count": 21,
   "metadata": {},
   "outputs": [
    {
     "name": "stdout",
     "output_type": "stream",
     "text": [
      "Q: Natalia sold clips to 48 of her friends in April, and then she sold half as many clips in May. How many clips did Natalia sell altogether in April and May?\n",
      "A: Natalia sold 48/2 = 24 clips in May. Natalia sold 48+24 = 72 clips altogether in April and May.  The answer is 72.\n",
      "\n",
      "\n",
      "Q: Weng earns $12 an hour for babysitting. Yesterday, she just did 50 minutes of babysitting. How much did she earn?\n",
      "A: Weng earns 12/60 = $0.2 per minute. Working 50 minutes, she earned 0.2 x 50 = $10.  The answer is 10.\n",
      "\n",
      "\n",
      "Q: Betty is saving money for a new wallet which costs $100. Betty has only half of the money she needs. Her parents decided to give her $15 for that purpose, and her grandparents twice as much as her parents. How much more money does Betty need to buy the wallet?\n",
      "A: In the beginning, Betty has only 100 / 2 = $50. Betty's grandparents gave her 15 * 2 = $30. This means, Betty needs 100 - 50 - 30 - 15 = $5 more.  The answer is 5.\n",
      "\n",
      "\n",
      "Q: Julie is reading a 120-page book. Yesterday, she was able to read 12 pages and today, she read twice as many pages as yesterday. If she wants to read half of the remaining pages tomorrow, how many pages should she read?\n",
      "A: Maila read 12 x 2 = 24 pages today. So she was able to read a total of 12 + 24 = 36 pages since yesterday. There are 120 - 36 = 84 pages left to be read. Since she wants to read half of the remaining pages tomorrow, then she should read 84/2 = 42 pages.  The answer is 42.\n",
      "\n",
      "\n",
      "Q: James writes a 3-page letter to 2 different friends twice a week.  How many pages does he write a year?\n",
      "A: He writes each friend 3*2=6 pages a week So he writes 6*2=12 pages every week That means he writes 12*52=624 pages a year  The answer is 624.\n",
      "\n",
      "\n",
      "Q: Mark has a garden with flowers. He planted plants of three different colors in it. Ten of them are yellow, and there are 80% more of those in purple. There are only 25% as many green flowers as there are yellow and purple flowers. How many flowers does Mark have in his garden?\n",
      "A: There are 80/100 * 10 = 8 more purple flowers than yellow flowers. So in Mark's garden, there are 10 + 8 = 18 purple flowers. Purple and yellow flowers sum up to 10 + 18 = 28 flowers. That means in Mark's garden there are 25/100 * 28 = 7 green flowers. So in total Mark has 28 + 7 = 35 plants in his garden.  The answer is 35.\n",
      "\n",
      "\n",
      "Q: Albert is wondering how much pizza he can eat in one day. He buys 2 large pizzas and 2 small pizzas. A large pizza has 16 slices and a small pizza has 8 slices. If he eats it all, how many pieces does he eat that day?\n",
      "A: He eats 32 from the largest pizzas because 2 x 16 = 32 He eats 16 from the small pizza because 2 x 8 = 16 He eats 48 pieces because 32 + 16 = 48  The answer is 48.\n",
      "\n",
      "\n",
      "Q: Ken created a care package to send to his brother, who was away at boarding school.  Ken placed a box on a scale, and then he poured into the box enough jelly beans to bring the weight to 2 pounds.  Then, he added enough brownies to cause the weight to triple.  Next, he added another 2 pounds of jelly beans.  And finally, he added enough gummy worms to double the weight once again.  What was the final weight of the box of goodies, in pounds?\n",
      "A: To the initial 2 pounds of jelly beans, he added enough brownies to cause the weight to triple, bringing the weight to 2*3=6 pounds. Next, he added another 2 pounds of jelly beans, bringing the weight to 6+2=8 pounds. And finally, he added enough gummy worms to double the weight once again, to a final weight of 8*2=16 pounds.  The answer is 16.\n",
      "\n",
      "\n",
      "Q: Alexis is applying for a new job and bought a new set of business clothes to wear to the interview. She went to a department store with a budget of $200 and spent $30 on a button-up shirt, $46 on suit pants, $38 on a suit coat, $11 on socks, and $18 on a belt. She also purchased a pair of shoes, but lost the receipt for them. She has $16 left from her budget. How much did Alexis pay for the shoes?\n",
      "A: Let S be the amount Alexis paid for the shoes. She spent S + 30 + 46 + 38 + 11 + 18 = S + 143. She used all but $16 of her budget, so S + 143 = 200 - 16 = 184. Thus, Alexis paid S = 184 - 143 = $41 for the shoes.  The answer is 41.\n",
      "\n",
      "\n",
      "Q: Tina makes $18.00 an hour.  If she works more than 8 hours per shift, she is eligible for overtime, which is paid by your hourly wage + 1/2 your hourly wage.  If she works 10 hours every day for 5 days, how much money does she make?\n",
      "A: She works 8 hours a day for $18 per hour so she makes 8*18 = $144.00 per 8-hour shift She works 10 hours a day and anything over 8 hours is eligible for overtime, so she gets 10-8 = 2 hours of overtime Overtime is calculated as time and a half so and she makes $18/hour so her overtime pay is 18*.5 = $9.00 Her overtime pay is 18+9 = $27.00 Her base pay is $144.00 per 8-hour shift and she works 5 days and makes 5 * $144 = $720.00 Her overtime pay is $27.00 per hour and she works 2 hours of overtime per day and makes 27*2 = $54.00 in overtime pay 2 hours of overtime pay for 5 days means she makes 54*5 = $270.00 In 5 days her base pay is $720.00 and she makes $270.00 in overtime pay so she makes $720 + $270 = $990.00  The answer is 990.\n",
      "\n",
      "\n",
      "Q: A deep-sea monster rises from the waters once every hundred years to feast on a ship and sate its hunger. Over three hundred years, it has consumed 847 people. Ships have been built larger over time, so each new ship has twice as many people as the last ship. How many people were on the ship the monster ate in the first hundred years?\n",
      "A: Let S be the number of people on the first hundred years’ ship. The second hundred years’ ship had twice as many as the first, so it had 2S people. The third hundred years’ ship had twice as many as the second, so it had 2 * 2S = 4S people. All the ships had S + 2S + 4S = 7S = 847 people. Thus, the ship that the monster ate in the first hundred years had S = 847 / 7 = 121 people on it.  The answer is 121.\n",
      "\n",
      "\n",
      "Q: Tobias is buying a new pair of shoes that costs $95. He has been saving up his money each month for the past three months. He gets a $5 allowance a month. He also mows lawns and shovels driveways. He charges $15 to mow a lawn and $7 to shovel. After buying the shoes, he has $15 in change. If he mows 4 lawns, how many driveways did he shovel?\n",
      "A: He saved up $110 total because 95 + 15 = 110 He saved $15 from his allowance because 3 x 5 = 15 He earned $60 mowing lawns because 4 x 15 = 60 He earned $35 shoveling driveways because 110 - 60 - 15 = 35 He shoveled 5 driveways because 35 / 7 = 5  The answer is 5.\n",
      "\n",
      "\n"
     ]
    }
   ],
   "source": [
    "import re\n",
    "\n",
    "for i, example in enumerate(dataset):\n",
    "    question = example[\"question\"].replace(\"\\n\", \" \")\n",
    "    answer = example[\"answer\"].replace(\"\\n\", \" \")\n",
    "\n",
    "    # remove expressions of the form <<48/2=24>> from the answer\n",
    "    answer = re.sub(r\"<<.*?>>\", \"\", answer)\n",
    "    \n",
    "    answer = answer.split(\"####\")[0] + \" The answer is \" + answer.split(\"#### \")[1] + \".\"\n",
    "    qa_text = \"Q: \" + question + \"\\nA: \" + answer + \"\\n\\n\"\n",
    "    print(qa_text)\n",
    "    if i > 10:\n",
    "        break"
   ]
  }
 ],
 "metadata": {
  "kernelspec": {
   "display_name": "calibration_in_llms",
   "language": "python",
   "name": "python3"
  },
  "language_info": {
   "codemirror_mode": {
    "name": "ipython",
    "version": 3
   },
   "file_extension": ".py",
   "mimetype": "text/x-python",
   "name": "python",
   "nbconvert_exporter": "python",
   "pygments_lexer": "ipython3",
   "version": "3.12.2"
  }
 },
 "nbformat": 4,
 "nbformat_minor": 2
}
